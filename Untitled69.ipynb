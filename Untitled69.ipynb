{
  "nbformat": 4,
  "nbformat_minor": 0,
  "metadata": {
    "colab": {
      "provenance": [],
      "gpuType": "T4"
    },
    "kernelspec": {
      "name": "python3",
      "display_name": "Python 3"
    },
    "language_info": {
      "name": "python"
    },
    "accelerator": "GPU"
  },
  "cells": [
    {
      "cell_type": "markdown",
      "source": [
        "#Библиотеки"
      ],
      "metadata": {
        "id": "hJT1ElPKnO1Q"
      }
    },
    {
      "cell_type": "code",
      "execution_count": null,
      "metadata": {
        "id": "OImpzETQkxQT"
      },
      "outputs": [],
      "source": [
        "!wget -q zaborshicov.ru/hiden/startup_train.csv\n",
        "!wget -q zaborshicov.ru/hiden/startup_test.csv"
      ]
    },
    {
      "cell_type": "code",
      "source": [
        "!pip install catboost"
      ],
      "metadata": {
        "colab": {
          "base_uri": "https://localhost:8080/"
        },
        "id": "Hdyn7ngOk0Xe",
        "outputId": "67577ffe-95db-4edc-c351-2291a3db4aad"
      },
      "execution_count": null,
      "outputs": [
        {
          "output_type": "stream",
          "name": "stdout",
          "text": [
            "Collecting catboost\n",
            "  Downloading catboost-1.2.5-cp310-cp310-manylinux2014_x86_64.whl (98.2 MB)\n",
            "\u001b[2K     \u001b[90m━━━━━━━━━━━━━━━━━━━━━━━━━━━━━━━━━━━━━━━━\u001b[0m \u001b[32m98.2/98.2 MB\u001b[0m \u001b[31m5.4 MB/s\u001b[0m eta \u001b[36m0:00:00\u001b[0m\n",
            "\u001b[?25hRequirement already satisfied: graphviz in /usr/local/lib/python3.10/dist-packages (from catboost) (0.20.3)\n",
            "Requirement already satisfied: matplotlib in /usr/local/lib/python3.10/dist-packages (from catboost) (3.7.1)\n",
            "Requirement already satisfied: numpy>=1.16.0 in /usr/local/lib/python3.10/dist-packages (from catboost) (1.25.2)\n",
            "Requirement already satisfied: pandas>=0.24 in /usr/local/lib/python3.10/dist-packages (from catboost) (2.0.3)\n",
            "Requirement already satisfied: scipy in /usr/local/lib/python3.10/dist-packages (from catboost) (1.11.4)\n",
            "Requirement already satisfied: plotly in /usr/local/lib/python3.10/dist-packages (from catboost) (5.15.0)\n",
            "Requirement already satisfied: six in /usr/local/lib/python3.10/dist-packages (from catboost) (1.16.0)\n",
            "Requirement already satisfied: python-dateutil>=2.8.2 in /usr/local/lib/python3.10/dist-packages (from pandas>=0.24->catboost) (2.8.2)\n",
            "Requirement already satisfied: pytz>=2020.1 in /usr/local/lib/python3.10/dist-packages (from pandas>=0.24->catboost) (2023.4)\n",
            "Requirement already satisfied: tzdata>=2022.1 in /usr/local/lib/python3.10/dist-packages (from pandas>=0.24->catboost) (2024.1)\n",
            "Requirement already satisfied: contourpy>=1.0.1 in /usr/local/lib/python3.10/dist-packages (from matplotlib->catboost) (1.2.1)\n",
            "Requirement already satisfied: cycler>=0.10 in /usr/local/lib/python3.10/dist-packages (from matplotlib->catboost) (0.12.1)\n",
            "Requirement already satisfied: fonttools>=4.22.0 in /usr/local/lib/python3.10/dist-packages (from matplotlib->catboost) (4.53.1)\n",
            "Requirement already satisfied: kiwisolver>=1.0.1 in /usr/local/lib/python3.10/dist-packages (from matplotlib->catboost) (1.4.5)\n",
            "Requirement already satisfied: packaging>=20.0 in /usr/local/lib/python3.10/dist-packages (from matplotlib->catboost) (24.1)\n",
            "Requirement already satisfied: pillow>=6.2.0 in /usr/local/lib/python3.10/dist-packages (from matplotlib->catboost) (9.4.0)\n",
            "Requirement already satisfied: pyparsing>=2.3.1 in /usr/local/lib/python3.10/dist-packages (from matplotlib->catboost) (3.1.2)\n",
            "Requirement already satisfied: tenacity>=6.2.0 in /usr/local/lib/python3.10/dist-packages (from plotly->catboost) (8.5.0)\n",
            "Installing collected packages: catboost\n",
            "Successfully installed catboost-1.2.5\n"
          ]
        }
      ]
    },
    {
      "cell_type": "code",
      "source": [
        "!pip install upgrade catboost"
      ],
      "metadata": {
        "colab": {
          "base_uri": "https://localhost:8080/"
        },
        "id": "qktNMUv6lGXn",
        "outputId": "bdf76654-edc1-4773-ede9-2a94813a1222"
      },
      "execution_count": null,
      "outputs": [
        {
          "output_type": "stream",
          "name": "stdout",
          "text": [
            "\u001b[31mERROR: Could not find a version that satisfies the requirement upgrade (from versions: none)\u001b[0m\u001b[31m\n",
            "\u001b[0m\u001b[31mERROR: No matching distribution found for upgrade\u001b[0m\u001b[31m\n",
            "\u001b[0m"
          ]
        }
      ]
    },
    {
      "cell_type": "markdown",
      "source": [
        "#Обработка данных"
      ],
      "metadata": {
        "id": "EoYehrycnW1C"
      }
    },
    {
      "cell_type": "code",
      "source": [
        "import pandas as pd\n",
        "import numpy as np\n",
        "# Загрузка\n",
        "df_train = pd.read_csv(\"startup_train.csv\", encoding='utf-8')\n",
        "df_test = pd.read_csv(\"startup_test.csv\", encoding='utf-8')\n",
        "# Целевая для обучения\n",
        "y_name = 'has_next_round'\n",
        "y_train = df_train[y_name]\n",
        "# Определение признаков\n",
        "X_train = df_train.drop([\"index\", y_name], axis=1)\n",
        "indexes = df_test[\"index\"]\n",
        "X_test = df_test.drop([\"index\"], axis=1)\n",
        "# Заполнение пропусков\n",
        "X_train = X_train.fillna(\"Unknown\")\n",
        "X_test = X_test.fillna(\"Unknown\")\n",
        "# Категориальные признаки\n",
        "categ_features = np.union1d(np.where(X_train.dtypes != np.float64)[0][2:3], np.where(X_train.dtypes != np.float64)[0][4:])\n",
        "print(type(categ_features))\n",
        "# Категориальные в строки\n",
        "for feature in categ_features:\n",
        "    X_train.iloc[:, feature] = X_train.iloc[:, feature].astype(str)\n",
        "    df_test.iloc[:, feature] = df_test.iloc[:, feature].astype(str)\n"
      ],
      "metadata": {
        "id": "Gic-RcX9rX3O",
        "colab": {
          "base_uri": "https://localhost:8080/"
        },
        "outputId": "39a96407-fcef-43ee-f847-ec7a4bc362d2"
      },
      "execution_count": null,
      "outputs": [
        {
          "output_type": "stream",
          "name": "stdout",
          "text": [
            "<class 'numpy.ndarray'>\n"
          ]
        }
      ]
    },
    {
      "cell_type": "code",
      "source": [
        "categ_features"
      ],
      "metadata": {
        "colab": {
          "base_uri": "https://localhost:8080/"
        },
        "id": "r-klk7SJn59a",
        "outputId": "a130a3e1-7947-4c99-f6a8-0659ec72bc84"
      },
      "execution_count": null,
      "outputs": [
        {
          "output_type": "execute_result",
          "data": {
            "text/plain": [
              "array([2, 4, 5, 6, 8, 9])"
            ]
          },
          "metadata": {},
          "execution_count": 45
        }
      ]
    },
    {
      "cell_type": "code",
      "source": [
        "X_train.dtypes"
      ],
      "metadata": {
        "colab": {
          "base_uri": "https://localhost:8080/"
        },
        "id": "HOJDCErp4uhL",
        "outputId": "33c4b320-abee-48c6-bfce-7c25bd607bca"
      },
      "execution_count": null,
      "outputs": [
        {
          "output_type": "execute_result",
          "data": {
            "text/plain": [
              "name                                object\n",
              "overview                            object\n",
              "category_code                       object\n",
              "tag_list                            object\n",
              "country_code                        object\n",
              "num_prev_rounds                     object\n",
              "has_raised_amount                   object\n",
              "ln_raised_amount                   float64\n",
              "participants                        object\n",
              "previous_any_founder_experience     object\n",
              "ipo_prob                           float64\n",
              "ma_prob                            float64\n",
              "dtype: object"
            ]
          },
          "metadata": {},
          "execution_count": 46
        }
      ]
    },
    {
      "cell_type": "markdown",
      "source": [
        "# Модель"
      ],
      "metadata": {
        "id": "8EP0Ej21nYRw"
      }
    },
    {
      "cell_type": "code",
      "source": [
        "from sklearn.model_selection import train_test_split\n",
        "from catboost import Pool\n",
        "\n",
        "# Разделение\n",
        "X_train_split, X_valid, y_train_split, y_valid = train_test_split(X_train, y_train, test_size=0.2)\n",
        "\n",
        "# Создание пулов\n",
        "train_pool = Pool(X_train_split, y_train_split, cat_features=categ_features, text_features=[\"overview\", \"name\", \"tag_list\"])\n",
        "valid_pool = Pool(X_valid, y_valid, cat_features=categ_features, text_features=[\"overview\", \"name\", \"tag_list\"])\n",
        "\n",
        "from catboost import CatBoostClassifier\n",
        "from sklearn.metrics import accuracy_score, classification_report\n",
        "\n",
        "\n",
        "model = CatBoostClassifier(eval_metric='Accuracy', verbose=50, task_type='GPU', l2_leaf_reg=10, learning_rate=0.005, loss_function=\"Logloss\", random_strength=0.1, bagging_temperature=0.5, grow_policy=\"Lossguide\")\n",
        "\n",
        "model.fit(train_pool, eval_set=valid_pool, use_best_model=True)\n",
        "\n",
        "\n",
        "y_pred_valid = model.predict(X_valid)\n",
        "\n",
        "\n",
        "accuracy = accuracy_score(y_valid, y_pred_valid)\n",
        "classification_report_output = classification_report(y_valid, y_pred_valid)"
      ],
      "metadata": {
        "colab": {
          "base_uri": "https://localhost:8080/"
        },
        "id": "S5EM3Sc_kzqL",
        "outputId": "cecc7d20-c95a-4b4c-f3e2-445405c69e3d"
      },
      "execution_count": null,
      "outputs": [
        {
          "output_type": "stream",
          "name": "stdout",
          "text": [
            "0:\tlearn: 0.6468587\ttest: 0.6101541\tbest: 0.6101541 (0)\ttotal: 29.5ms\tremaining: 29.5s\n",
            "50:\tlearn: 0.6720345\ttest: 0.6137806\tbest: 0.6228468 (17)\ttotal: 1.13s\tremaining: 21.1s\n",
            "100:\tlearn: 0.6770243\ttest: 0.6255666\tbest: 0.6255666 (100)\ttotal: 2.15s\tremaining: 19.1s\n",
            "150:\tlearn: 0.6831481\ttest: 0.6337262\tbest: 0.6337262 (150)\ttotal: 3.12s\tremaining: 17.6s\n",
            "200:\tlearn: 0.6874575\ttest: 0.6319130\tbest: 0.6346328 (159)\ttotal: 4.09s\tremaining: 16.3s\n",
            "250:\tlearn: 0.6947154\ttest: 0.6382593\tbest: 0.6427924 (239)\ttotal: 7.44s\tremaining: 22.2s\n",
            "300:\tlearn: 0.7026537\ttest: 0.6436990\tbest: 0.6446056 (283)\ttotal: 8.54s\tremaining: 19.8s\n",
            "350:\tlearn: 0.7085507\ttest: 0.6446056\tbest: 0.6455122 (308)\ttotal: 9.57s\tremaining: 17.7s\n",
            "400:\tlearn: 0.7158086\ttest: 0.6436990\tbest: 0.6464189 (363)\ttotal: 10.6s\tremaining: 15.8s\n",
            "450:\tlearn: 0.7219324\ttest: 0.6427924\tbest: 0.6464189 (363)\ttotal: 11.5s\tremaining: 14s\n",
            "500:\tlearn: 0.7310048\ttest: 0.6391659\tbest: 0.6464189 (363)\ttotal: 12.5s\tremaining: 12.4s\n",
            "550:\tlearn: 0.7355409\ttest: 0.6409791\tbest: 0.6464189 (363)\ttotal: 13.4s\tremaining: 10.9s\n",
            "600:\tlearn: 0.7396235\ttest: 0.6391659\tbest: 0.6464189 (363)\ttotal: 14.4s\tremaining: 9.55s\n",
            "650:\tlearn: 0.7441597\ttest: 0.6382593\tbest: 0.6464189 (363)\ttotal: 15.3s\tremaining: 8.22s\n",
            "700:\tlearn: 0.7514176\ttest: 0.6391659\tbest: 0.6464189 (363)\ttotal: 16.3s\tremaining: 6.95s\n",
            "750:\tlearn: 0.7582218\ttest: 0.6446056\tbest: 0.6464189 (363)\ttotal: 17.2s\tremaining: 5.71s\n",
            "800:\tlearn: 0.7634384\ttest: 0.6464189\tbest: 0.6491387 (796)\ttotal: 20.6s\tremaining: 5.11s\n",
            "850:\tlearn: 0.7679746\ttest: 0.6400725\tbest: 0.6491387 (796)\ttotal: 21.6s\tremaining: 3.78s\n",
            "900:\tlearn: 0.7725108\ttest: 0.6418858\tbest: 0.6491387 (796)\ttotal: 22.6s\tremaining: 2.48s\n",
            "950:\tlearn: 0.7799955\ttest: 0.6446056\tbest: 0.6491387 (796)\ttotal: 23.5s\tremaining: 1.21s\n",
            "999:\tlearn: 0.7829440\ttest: 0.6455122\tbest: 0.6491387 (796)\ttotal: 24.4s\tremaining: 0us\n",
            "bestTest = 0.6491387126\n",
            "bestIteration = 796\n",
            "Shrink model to first 797 iterations.\n"
          ]
        }
      ]
    },
    {
      "cell_type": "markdown",
      "source": [
        "# Сохранение"
      ],
      "metadata": {
        "id": "vN3WL4tlniGZ"
      }
    },
    {
      "cell_type": "code",
      "source": [
        "pred = model.predict(X_test) # Генерация предиктов"
      ],
      "metadata": {
        "id": "DttBBkTLvAo9"
      },
      "execution_count": null,
      "outputs": []
    },
    {
      "cell_type": "code",
      "source": [
        "pred.tolist().count(1)\n"
      ],
      "metadata": {
        "colab": {
          "base_uri": "https://localhost:8080/"
        },
        "id": "vTZm4sNHvFDp",
        "outputId": "7953a01a-3e52-474f-cab5-70ad3b240187"
      },
      "execution_count": null,
      "outputs": [
        {
          "output_type": "execute_result",
          "data": {
            "text/plain": [
              "586"
            ]
          },
          "metadata": {},
          "execution_count": 117
        }
      ]
    },
    {
      "cell_type": "code",
      "source": [
        "pred.tolist().count(0)"
      ],
      "metadata": {
        "colab": {
          "base_uri": "https://localhost:8080/"
        },
        "id": "sOAVwvyo5m0K",
        "outputId": "02defc27-a8b5-4cdc-b8fe-134e7b764b1c"
      },
      "execution_count": null,
      "outputs": [
        {
          "output_type": "execute_result",
          "data": {
            "text/plain": [
              "792"
            ]
          },
          "metadata": {},
          "execution_count": 118
        }
      ]
    },
    {
      "cell_type": "code",
      "source": [
        "out_df = pd.DataFrame({'index': indexes, 'has_next_round': pred})"
      ],
      "metadata": {
        "id": "b7Yz4wlMvFez"
      },
      "execution_count": null,
      "outputs": []
    },
    {
      "cell_type": "code",
      "source": [
        "out_df.to_csv(f'submit_.csv', index=False)"
      ],
      "metadata": {
        "id": "_zQ-bNRuvkdH"
      },
      "execution_count": null,
      "outputs": []
    }
  ]
}